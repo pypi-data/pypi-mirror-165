{
 "cells": [
  {
   "cell_type": "code",
   "execution_count": 1,
   "id": "a6cc86f4-3ed9-4f61-99ca-f3a853fc8b0d",
   "metadata": {},
   "outputs": [],
   "source": [
    "import numpy as np\n",
    "import torch\n",
    "import time"
   ]
  },
  {
   "cell_type": "code",
   "execution_count": 2,
   "id": "36aa5d09-7eac-407b-86df-d71d7cf822c7",
   "metadata": {},
   "outputs": [],
   "source": [
    "def groundtruth(left, right, matrix):\n",
    "    \"\"\"\n",
    "    Black-box style: first assemble the query indices (tensor of shape Rl x 2 x Rr x |F|), then compute the function on them: for each x, f(x) = x^T matrix x.\n",
    "    \n",
    "    :param left: a matrix of shape Rl x M (the left cross interface)\n",
    "    :param right: a matrix of shape Rr x (|F|-1-M) (the left cross interface)\n",
    "    :param matrix: the QUBO interaction matrix of shape |F| x |F|\n",
    "    \"\"\"\n",
    "    \n",
    "    Rl = left.shape[0]\n",
    "    Rr = right.shape[0]\n",
    "    F = matrix.shape[0]\n",
    "    indices = torch.cat([\n",
    "        left[:, None, None, :].repeat(1, 2, Rr, 1),\n",
    "        torch.arange(2)[None, :, None, None].repeat(Rl, 1, Rr, 1),\n",
    "        right[None, None, :, :].repeat(Rl, 2, 1, 1)\n",
    "    ], dim=-1)\n",
    "    return torch.einsum('ri,ij,rj->r', indices.reshape(-1, F), matrix, indices.reshape(-1, F))\n",
    "\n",
    "\n",
    "def faster(left, right, matrix):\n",
    "    \"\"\"\n",
    "    \"Intrusive\" approach: use the fact the query indices are structured (there is redundant information) to make the evaluation faster.\n",
    "    \n",
    "    :param left: a matrix of shape Rl x M (the left cross interface)\n",
    "    :param right: a matrix of shape Rr x (|F|-1-M) (the left cross interface)\n",
    "    :param matrix: the QUBO interaction matrix of shape |F| x |F|\n",
    "    \"\"\"\n",
    "    \n",
    "    Rl = left.shape[0]\n",
    "    Rr = right.shape[0]\n",
    "    F = matrix.shape[0]\n",
    "    indices = torch.cat([\n",
    "        left[:, None, None, :].repeat(1, 2, Rr, 1),\n",
    "        torch.arange(2)[None, :, None, None].repeat(Rl, 1, Rr, 1),\n",
    "        right[None, None, :, :].repeat(Rl, 2, 1, 1)\n",
    "    ], dim=-1)\n",
    "    \n",
    "    U1 = left @ matrix[:M, :]  # Cost: O(Rl x M x |F|)\n",
    "    U2 = torch.arange(2).float()[:, None] @ matrix[M:M+1, :]  # Cost: O(2 x 1 x |F|)\n",
    "    U3 = right @ matrix[M+1:, :]  # Cost: O(Rr x (|F|-1-M) x |F|)\n",
    "    \n",
    "    tmp = U1[:, None, None, :] + U2[None, :, None, :] + U3[None, None, :, :]  # Cost: O(Rl x 2 x Rr x |F|)\n",
    "    return torch.einsum('rn,rn->r', tmp.reshape(-1, F), indices.reshape(-1, F))  # Cost: O(Rl x 2 x Rr x |F|)"
   ]
  },
  {
   "cell_type": "markdown",
   "id": "b492a23a-bab6-486c-a9fb-cbf27562d905",
   "metadata": {},
   "source": [
    "Let's test it:"
   ]
  },
  {
   "cell_type": "code",
   "execution_count": 4,
   "id": "fc77e090-5972-4eae-b967-d2832c103ed3",
   "metadata": {},
   "outputs": [
    {
     "name": "stdout",
     "output_type": "stream",
     "text": [
      "4000\n",
      "Elapsed (groundtruth): 1.706371784210205\n",
      "Elapsed (faster): 0.10840201377868652\n",
      "Relative error: tensor(6.3996e-08)\n"
     ]
    }
   ],
   "source": [
    "Rl = 25  # Tensor rank from the left\n",
    "Rr = 30  # Tensor rank from the right\n",
    "F = 8000  # Nummber of QUBO features\n",
    "M = F//2\n",
    "matrix = torch.rand(F, F)  # The QUBO interaction matrix\n",
    "\n",
    "left = torch.randint(0, 2, [Rl, M]).float()  # Left interface of cross\n",
    "right = torch.randint(0, 2, [Rr, F-1-M]).float()  # Right interface of cross\n",
    "\n",
    "start = time.time()\n",
    "result_groundtruth = groundtruth(left, right, matrix)\n",
    "print('Elapsed (groundtruth):', time.time()-start)\n",
    "\n",
    "start = time.time()\n",
    "result_faster = faster(left, right, matrix)\n",
    "print('Elapsed (faster):', time.time()-start)\n",
    "\n",
    "print('Relative error:', torch.linalg.norm(result_faster - result_groundtruth) / torch.linalg.norm(result_groundtruth))"
   ]
  },
  {
   "cell_type": "code",
   "execution_count": 3,
   "id": "06b3aa1e-c605-4612-95fb-1eb966f09d44",
   "metadata": {},
   "outputs": [
    {
     "name": "stdout",
     "output_type": "stream",
     "text": [
      "Elapsed (groundtruth): 0.78399658203125\n",
      "Elapsed (faster): 0.0443267822265625\n",
      "Relative error: tensor(6.2843e-08)\n"
     ]
    }
   ],
   "source": [
    "Rl = 25  # Tensor rank from the left\n",
    "Rr = 30  # Tensor rank from the right\n",
    "F = 8000  # Nummber of QUBO features\n",
    "M = F//2\n",
    "matrix = torch.rand(F, F)  # The QUBO interaction matrix\n",
    "\n",
    "left = torch.randint(0, 2, [Rl, M]).float()  # Left interface of cross\n",
    "right = torch.randint(0, 2, [Rr, F-1-M]).float()  # Right interface of cross\n",
    "\n",
    "start = time.time()\n",
    "result_groundtruth = groundtruth(left, right, matrix)\n",
    "print('Elapsed (groundtruth):', time.time()-start)\n",
    "\n",
    "start = time.time()\n",
    "result_faster = faster(left, right, matrix)\n",
    "print('Elapsed (faster):', time.time()-start)\n",
    "\n",
    "print('Relative error:', torch.linalg.norm(result_faster - result_groundtruth) / torch.linalg.norm(result_groundtruth))"
   ]
  }
 ],
 "metadata": {
  "kernelspec": {
   "display_name": "Python 3",
   "language": "python",
   "name": "python3"
  },
  "language_info": {
   "codemirror_mode": {
    "name": "ipython",
    "version": 3
   },
   "file_extension": ".py",
   "mimetype": "text/x-python",
   "name": "python",
   "nbconvert_exporter": "python",
   "pygments_lexer": "ipython3",
   "version": "3.8.8"
  }
 },
 "nbformat": 4,
 "nbformat_minor": 5
}
