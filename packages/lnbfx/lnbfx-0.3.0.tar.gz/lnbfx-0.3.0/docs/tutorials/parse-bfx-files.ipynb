{
 "cells": [
  {
   "cell_type": "markdown",
   "metadata": {},
   "source": [
    "# Parse bioinformatics pipeline inputs, outputs, and metadata"
   ]
  },
  {
   "cell_type": "markdown",
   "metadata": {},
   "source": [
    "lnbfx provides utils to identify pipeline inputs, outputs, and metadata for further downstream processing."
   ]
  },
  {
   "cell_type": "code",
   "execution_count": null,
   "metadata": {},
   "outputs": [],
   "source": [
    "from nbproject import header\n",
    "\n",
    "header()"
   ]
  },
  {
   "cell_type": "markdown",
   "metadata": {},
   "source": [
    "## Parsing individual pipeline files"
   ]
  },
  {
   "cell_type": "markdown",
   "metadata": {},
   "source": [
    "A pipeline file can be parsed according to its filename or parent directory.\n",
    "\n",
    "Both cases are served by the `parse_bfx_file_type` function, which takes a path as input and an optional boolean parameter `from_dir` (defaults to True) that defines the parsing method.\n",
    "\n",
    "Let's parse an individual `fastq` file by filename."
   ]
  },
  {
   "cell_type": "code",
   "execution_count": null,
   "metadata": {},
   "outputs": [],
   "source": [
    "from lnbfx import parse_bfx_file_type\n",
    "\n",
    "bfx_file_type = parse_bfx_file_type(\n",
    "    \"../../tests/test-data/SRR4238351_subsamp.fastq.gz\", from_dir=False\n",
    ")\n",
    "bfx_file_type"
   ]
  },
  {
   "cell_type": "markdown",
   "metadata": {},
   "source": [
    "## Parsing pipeline dirs"
   ]
  },
  {
   "cell_type": "code",
   "execution_count": null,
   "metadata": {},
   "outputs": [],
   "source": [
    "# TODO: write example based on nf-core/scrnaseq folders"
   ]
  }
 ],
 "metadata": {
  "kernelspec": {
   "language": "python"
  },
  "language_info": {
   "codemirror_mode": {
    "name": "ipython",
    "version": 3
   },
   "file_extension": ".py",
   "mimetype": "text/x-python",
   "name": "python",
   "nbconvert_exporter": "python",
   "pygments_lexer": "ipython3",
   "version": "3.10.4"
  },
  "nbproject": {
   "id": "r9oEX5p9nAQ2",
   "parent": null,
   "pypackage": null,
   "time_init": "2022-08-18T12:17:33.857564+00:00",
   "version": "draft"
  },
  "vscode": {
   "interpreter": {
    "hash": "f91bc473e765ef9f4a87aaf3469a766975f91452b5cf71265740aab3b1d3988b"
   }
  }
 },
 "nbformat": 4,
 "nbformat_minor": 2
}
