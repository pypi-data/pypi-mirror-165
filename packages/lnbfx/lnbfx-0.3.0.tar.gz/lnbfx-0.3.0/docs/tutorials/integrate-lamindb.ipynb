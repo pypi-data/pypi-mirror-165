{
 "cells": [
  {
   "cell_type": "markdown",
   "metadata": {},
   "source": [
    "# Link against LaminDB's `dobject` and `pipeline_run` tables"
   ]
  },
  {
   "cell_type": "markdown",
   "metadata": {},
   "source": [
    "See [link pipelines](https://lamin.ai/docs/lamindb/tutorials) in the LaminDB docs."
   ]
  },
  {
   "cell_type": "markdown",
   "metadata": {},
   "source": [
    "The `BfxRun` class has two methods that enable integration between LaminDB and lnbfx.\n",
    "- `BfxRun.link_dobject`: links LaminDB's `dobject` to its `bfx_file_type`, enabling queriability of a dobject by its bioinformatics file type.\n",
    "- `BfxRun.link_pipeline_run`: links LaminDB's core `pipeline_run` to `bfx_run`, enabling the linking of dobjects to pipeline runs."
   ]
  }
 ],
 "metadata": {
  "kernelspec": {
   "display_name": "Python 3.9.13 64-bit",
   "language": "python",
   "name": "python3"
  },
  "language_info": {
   "codemirror_mode": {
    "name": "ipython",
    "version": 3
   },
   "file_extension": ".py",
   "mimetype": "text/x-python",
   "name": "python",
   "nbconvert_exporter": "python",
   "pygments_lexer": "ipython3",
   "version": "3.9.13"
  },
  "vscode": {
   "interpreter": {
    "hash": "b0fa6594d8f4cbf19f97940f81e996739fb7646882a419484c72d19e05852a7e"
   }
  }
 },
 "nbformat": 4,
 "nbformat_minor": 2
}
