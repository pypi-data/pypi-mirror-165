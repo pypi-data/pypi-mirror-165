{
 "cells": [
  {
   "cell_type": "code",
   "execution_count": 1,
   "metadata": {
    "collapsed": true,
    "pycharm": {
     "name": "#%%\n"
    }
   },
   "outputs": [],
   "source": [
    "import os\n",
    "import shutil\n",
    "import click\n",
    "import h5py\n",
    "import imageio\n",
    "import scipy.ndimage as ndi\n",
    "\n",
    "import time\n",
    "\n",
    "import numpy as np\n",
    "import pandas as pd\n",
    "from matplotlib import pyplot as plt"
   ]
  },
  {
   "cell_type": "code",
   "execution_count": 2,
   "outputs": [],
   "source": [
    "annotations = pd.read_csv(\"/Users/celefthe/mesoscopy_testing/ccf_annotations.csv\", delimiter=\", \", engine=\"python\")\n",
    "\n",
    "aba_exclude = [\n",
    "    \"FRP1\",\n",
    "    \"VISpl1\",\n",
    "    \"VISpor1\",\n",
    "    \"VISli1\",\n",
    "    \"TEa1\",\n",
    "    \"AUDd1\",\n",
    "    \"AUDp1\",\n",
    "    \"AUDpo1\",\n",
    "    \"AUDv1\",\n",
    "    \"ORBm1\",\n",
    "]\n",
    "\n",
    "annotations = annotations[~annotations.acronym.isin(aba_exclude)]\n",
    "\n",
    "aba_mask = imageio.imread(\"/Users/celefthe/mesoscopy_testing/ccf_template_top_140x142.tiff\")\n",
    "l_aba = imageio.imread(\"/Users/celefthe/mesoscopy_testing/ccf_template_top_140x142.tiff\")\n",
    "r_aba = np.flip(l_aba, axis=1)"
   ],
   "metadata": {
    "collapsed": false,
    "pycharm": {
     "name": "#%%\n"
    }
   }
  },
  {
   "cell_type": "code",
   "execution_count": 3,
   "outputs": [
    {
     "data": {
      "text/plain": "      id   acronym                                       name\n0     11    SSp-ul      Primary somatosensory area upper limb\n6    578      MOp1                         Primary motor area\n7    584       MOs                       Secondary motor area\n9    753       PL1                             Prelimbic area\n10   866   RSPagl1  Retrosplenial area lateral agranular part\n11   872     RSPd1             Retrosplenial area dorsal part\n12   879     RSPv1            Retrosplenial area ventral part\n13   970  SSp-bfd1    Primary somatosensory area barrel field\n14   977   SSp-ll1      Primary somatosensory area lower limb\n15   984    SSp-m1           Primary somatosensory area mouth\n16   991    SSp-n1            Primary somatosensory area nose\n17   998   SSp-tr1           Primary somatosensory area trunk\n18  1005   SSp-ul1      Primary somatosensory area upper limb\n19  1012   SSp-un1      Primary somatosensory area unassigned\n20  1019      SSs1            Supplemental somatosensory area\n22  1125    VISal1                  Anterolateral visual area\n23  1132    VISam1                   Anteromedial visual area\n24  1139     VISC1                              Visceral area\n25  1146     VISl1                        Lateral visual area\n26  1153      VISp                        Primary visual area\n28  1167     VISpm                  Posteromedial visual area\n29  1207     VISa1                              Anterior area\n32  1228    VISrl1                         Rostrolateral area",
      "text/html": "<div>\n<style scoped>\n    .dataframe tbody tr th:only-of-type {\n        vertical-align: middle;\n    }\n\n    .dataframe tbody tr th {\n        vertical-align: top;\n    }\n\n    .dataframe thead th {\n        text-align: right;\n    }\n</style>\n<table border=\"1\" class=\"dataframe\">\n  <thead>\n    <tr style=\"text-align: right;\">\n      <th></th>\n      <th>id</th>\n      <th>acronym</th>\n      <th>name</th>\n    </tr>\n  </thead>\n  <tbody>\n    <tr>\n      <th>0</th>\n      <td>11</td>\n      <td>SSp-ul</td>\n      <td>Primary somatosensory area upper limb</td>\n    </tr>\n    <tr>\n      <th>6</th>\n      <td>578</td>\n      <td>MOp1</td>\n      <td>Primary motor area</td>\n    </tr>\n    <tr>\n      <th>7</th>\n      <td>584</td>\n      <td>MOs</td>\n      <td>Secondary motor area</td>\n    </tr>\n    <tr>\n      <th>9</th>\n      <td>753</td>\n      <td>PL1</td>\n      <td>Prelimbic area</td>\n    </tr>\n    <tr>\n      <th>10</th>\n      <td>866</td>\n      <td>RSPagl1</td>\n      <td>Retrosplenial area lateral agranular part</td>\n    </tr>\n    <tr>\n      <th>11</th>\n      <td>872</td>\n      <td>RSPd1</td>\n      <td>Retrosplenial area dorsal part</td>\n    </tr>\n    <tr>\n      <th>12</th>\n      <td>879</td>\n      <td>RSPv1</td>\n      <td>Retrosplenial area ventral part</td>\n    </tr>\n    <tr>\n      <th>13</th>\n      <td>970</td>\n      <td>SSp-bfd1</td>\n      <td>Primary somatosensory area barrel field</td>\n    </tr>\n    <tr>\n      <th>14</th>\n      <td>977</td>\n      <td>SSp-ll1</td>\n      <td>Primary somatosensory area lower limb</td>\n    </tr>\n    <tr>\n      <th>15</th>\n      <td>984</td>\n      <td>SSp-m1</td>\n      <td>Primary somatosensory area mouth</td>\n    </tr>\n    <tr>\n      <th>16</th>\n      <td>991</td>\n      <td>SSp-n1</td>\n      <td>Primary somatosensory area nose</td>\n    </tr>\n    <tr>\n      <th>17</th>\n      <td>998</td>\n      <td>SSp-tr1</td>\n      <td>Primary somatosensory area trunk</td>\n    </tr>\n    <tr>\n      <th>18</th>\n      <td>1005</td>\n      <td>SSp-ul1</td>\n      <td>Primary somatosensory area upper limb</td>\n    </tr>\n    <tr>\n      <th>19</th>\n      <td>1012</td>\n      <td>SSp-un1</td>\n      <td>Primary somatosensory area unassigned</td>\n    </tr>\n    <tr>\n      <th>20</th>\n      <td>1019</td>\n      <td>SSs1</td>\n      <td>Supplemental somatosensory area</td>\n    </tr>\n    <tr>\n      <th>22</th>\n      <td>1125</td>\n      <td>VISal1</td>\n      <td>Anterolateral visual area</td>\n    </tr>\n    <tr>\n      <th>23</th>\n      <td>1132</td>\n      <td>VISam1</td>\n      <td>Anteromedial visual area</td>\n    </tr>\n    <tr>\n      <th>24</th>\n      <td>1139</td>\n      <td>VISC1</td>\n      <td>Visceral area</td>\n    </tr>\n    <tr>\n      <th>25</th>\n      <td>1146</td>\n      <td>VISl1</td>\n      <td>Lateral visual area</td>\n    </tr>\n    <tr>\n      <th>26</th>\n      <td>1153</td>\n      <td>VISp</td>\n      <td>Primary visual area</td>\n    </tr>\n    <tr>\n      <th>28</th>\n      <td>1167</td>\n      <td>VISpm</td>\n      <td>Posteromedial visual area</td>\n    </tr>\n    <tr>\n      <th>29</th>\n      <td>1207</td>\n      <td>VISa1</td>\n      <td>Anterior area</td>\n    </tr>\n    <tr>\n      <th>32</th>\n      <td>1228</td>\n      <td>VISrl1</td>\n      <td>Rostrolateral area</td>\n    </tr>\n  </tbody>\n</table>\n</div>"
     },
     "execution_count": 3,
     "metadata": {},
     "output_type": "execute_result"
    }
   ],
   "source": [
    "annotations"
   ],
   "metadata": {
    "collapsed": false,
    "pycharm": {
     "name": "#%%\n"
    }
   }
  },
  {
   "cell_type": "code",
   "execution_count": 4,
   "outputs": [
    {
     "data": {
      "text/plain": "<matplotlib.image.AxesImage at 0x1263164c0>"
     },
     "execution_count": 4,
     "metadata": {},
     "output_type": "execute_result"
    },
    {
     "data": {
      "text/plain": "<Figure size 432x288 with 1 Axes>",
      "image/png": "[encoded data removed]"
     },
     "metadata": {
      "needs_background": "light"
     },
     "output_type": "display_data"
    }
   ],
   "source": [
    "plt.imshow(aba_mask)"
   ],
   "metadata": {
    "collapsed": false,
    "pycharm": {
     "name": "#%%\n"
    }
   }
  },
  {
   "cell_type": "code",
   "execution_count": 5,
   "outputs": [
    {
     "data": {
      "text/plain": "<matplotlib.image.AxesImage at 0x1263bea60>"
     },
     "execution_count": 5,
     "metadata": {},
     "output_type": "execute_result"
    },
    {
     "data": {
      "text/plain": "<Figure size 432x288 with 1 Axes>",
      "image/png": "[encoded data removed]"
     },
     "metadata": {
      "needs_background": "light"
     },
     "output_type": "display_data"
    }
   ],
   "source": [
    "plt.imshow(np.flip(aba_mask, axis=1))"
   ],
   "metadata": {
    "collapsed": false,
    "pycharm": {
     "name": "#%%\n"
    }
   }
  },
  {
   "cell_type": "code",
   "execution_count": 6,
   "outputs": [
    {
     "data": {
      "text/plain": "<matplotlib.image.AxesImage at 0x1264074c0>"
     },
     "execution_count": 6,
     "metadata": {},
     "output_type": "execute_result"
    },
    {
     "data": {
      "text/plain": "<Figure size 432x288 with 1 Axes>",
      "image/png": "[encoded data removed]"
     },
     "metadata": {
      "needs_background": "light"
     },
     "output_type": "display_data"
    }
   ],
   "source": [
    "plt.imshow(np.ones([140, 142]))"
   ],
   "metadata": {
    "collapsed": false,
    "pycharm": {
     "name": "#%%\n"
    }
   }
  },
  {
   "cell_type": "code",
   "execution_count": 7,
   "outputs": [
    {
     "data": {
      "text/plain": "<matplotlib.image.AxesImage at 0x1264638e0>"
     },
     "execution_count": 7,
     "metadata": {},
     "output_type": "execute_result"
    },
    {
     "data": {
      "text/plain": "<Figure size 432x288 with 1 Axes>",
      "image/png": "[encoded data removed]"
     },
     "metadata": {
      "needs_background": "light"
     },
     "output_type": "display_data"
    }
   ],
   "source": [
    "plt.imshow(np.ma.masked_array(np.ones([140, 142]), np.not_equal(l_aba, 998)))"
   ],
   "metadata": {
    "collapsed": false,
    "pycharm": {
     "name": "#%%\n"
    }
   }
  },
  {
   "cell_type": "code",
   "execution_count": 8,
   "outputs": [
    {
     "data": {
      "text/plain": "522.0"
     },
     "execution_count": 8,
     "metadata": {},
     "output_type": "execute_result"
    }
   ],
   "source": [
    "np.ma.masked_array(np.ones([140, 142]), np.not_equal(l_aba, 578)).sum()"
   ],
   "metadata": {
    "collapsed": false,
    "pycharm": {
     "name": "#%%\n"
    }
   }
  },
  {
   "cell_type": "code",
   "execution_count": 9,
   "outputs": [],
   "source": [
    "# f = h5py.File(\"/Users/celefthe/mesoscopy_testing/preprocessed/sub-MM237_exp-109hrb21d_ses-20220311_test-dataset-2mins_preprocessed-registered.h5\")\n",
    "f = h5py.File(\"/Users/celefthe/mesoscopy_testing/preprocessed/sub-MM045_ses-20210709_rest_preprocessed-registered.h5\")\n",
    "d = f[\"/F\"]"
   ],
   "metadata": {
    "collapsed": false,
    "pycharm": {
     "name": "#%%\n"
    }
   }
  },
  {
   "cell_type": "code",
   "execution_count": 30,
   "outputs": [
    {
     "data": {
      "text/plain": "(22500, 140, 142)"
     },
     "execution_count": 30,
     "metadata": {},
     "output_type": "execute_result"
    }
   ],
   "source": [
    "d.shape"
   ],
   "metadata": {
    "collapsed": false,
    "pycharm": {
     "name": "#%%\n"
    }
   }
  },
  {
   "cell_type": "code",
   "execution_count": 31,
   "outputs": [
    {
     "data": {
      "text/plain": "0.005277749294704861"
     },
     "execution_count": 31,
     "metadata": {},
     "output_type": "execute_result"
    }
   ],
   "source": [
    "ndi.mean(d[:], labels=aba_mask, index=11)"
   ],
   "metadata": {
    "collapsed": false,
    "pycharm": {
     "name": "#%%\n"
    }
   }
  },
  {
   "cell_type": "code",
   "execution_count": 20,
   "outputs": [
    {
     "data": {
      "text/plain": "522"
     },
     "execution_count": 20,
     "metadata": {},
     "output_type": "execute_result"
    }
   ],
   "source": [
    "np.ma.masked_array(d[10], np.not_equal(r_aba, 578)).count()"
   ],
   "metadata": {
    "collapsed": false,
    "pycharm": {
     "name": "#%%\n"
    }
   }
  },
  {
   "cell_type": "code",
   "execution_count": null,
   "outputs": [],
   "source": [],
   "metadata": {
    "collapsed": false,
    "pycharm": {
     "name": "#%%\n"
    }
   }
  },
  {
   "cell_type": "code",
   "execution_count": 18,
   "outputs": [
    {
     "data": {
      "text/plain": "0.1356862779992407"
     },
     "execution_count": 18,
     "metadata": {},
     "output_type": "execute_result"
    }
   ],
   "source": [
    "np.ma.masked_array(d[100], np.equal(l_aba, 998)).mean()"
   ],
   "metadata": {
    "collapsed": false,
    "pycharm": {
     "name": "#%%\n"
    }
   }
  },
  {
   "cell_type": "code",
   "execution_count": 23,
   "outputs": [
    {
     "data": {
      "text/plain": "<matplotlib.image.AxesImage at 0x126581fa0>"
     },
     "execution_count": 23,
     "metadata": {},
     "output_type": "execute_result"
    },
    {
     "data": {
      "text/plain": "<Figure size 432x288 with 1 Axes>",
      "image/png": "[encoded data removed]"
     },
     "metadata": {
      "needs_background": "light"
     },
     "output_type": "display_data"
    }
   ],
   "source": [
    "plt.imshow(np.ma.masked_array(d[100], np.not_equal(l_aba, 578)))"
   ],
   "metadata": {
    "collapsed": false,
    "pycharm": {
     "name": "#%%\n"
    }
   }
  },
  {
   "cell_type": "code",
   "execution_count": 21,
   "outputs": [],
   "source": [
    "a = np.ma.array([1,2,3], mask=[False, False, True])"
   ],
   "metadata": {
    "collapsed": false,
    "pycharm": {
     "name": "#%%\n"
    }
   }
  },
  {
   "cell_type": "code",
   "execution_count": null,
   "outputs": [],
   "source": [],
   "metadata": {
    "collapsed": false,
    "pycharm": {
     "name": "#%%\n"
    }
   }
  }
 ],
 "metadata": {
  "kernelspec": {
   "display_name": "Python 3",
   "language": "python",
   "name": "python3"
  },
  "language_info": {
   "codemirror_mode": {
    "name": "ipython",
    "version": 2
   },
   "file_extension": ".py",
   "mimetype": "text/x-python",
   "name": "python",
   "nbconvert_exporter": "python",
   "pygments_lexer": "ipython2",
   "version": "2.7.6"
  }
 },
 "nbformat": 4,
 "nbformat_minor": 0
}