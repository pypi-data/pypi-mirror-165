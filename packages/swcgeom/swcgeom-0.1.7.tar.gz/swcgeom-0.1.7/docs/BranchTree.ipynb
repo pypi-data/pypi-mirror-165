{
 "cells": [
  {
   "cell_type": "code",
   "execution_count": 1,
   "metadata": {},
   "outputs": [],
   "source": [
    "import sys\n",
    "\n",
    "sys.path.append(\"..\")\n",
    "import swcgeom"
   ]
  },
  {
   "cell_type": "code",
   "execution_count": 2,
   "metadata": {},
   "outputs": [
    {
     "name": "stdout",
     "output_type": "stream",
     "text": [
      "Neuron Tree with 4 nodes and 3 edges\n",
      "branch 1, branches: ['Neuron branch with 3 nodes.']\n",
      "branch 2, branches: ['Neuron branch with 4 nodes.', 'Neuron branch with 3 nodes.']\n",
      "branch 3, branches: []\n",
      "branch 4, branches: []\n"
     ]
    },
    {
     "data": {
      "image/png": "[encoded data removed]",
      "text/plain": [
       "<Figure size 432x288 with 1 Axes>"
      ]
     },
     "metadata": {
      "needs_background": "light"
     },
     "output_type": "display_data"
    }
   ],
   "source": [
    "branchTree = swcgeom.BranchTree.from_swc(\"/data/trees/test.swc\")\n",
    "print(branchTree)\n",
    "branchTree.traverse(lambda n, _:\n",
    "    print(f\"branch {n.id}, branches: {[str(br) for br in n.branches]}\"))\n",
    "branchTree.draw()"
   ]
  }
 ],
 "metadata": {
  "kernelspec": {
   "display_name": "Python 3.10.4 ('torch')",
   "language": "python",
   "name": "python3"
  },
  "language_info": {
   "codemirror_mode": {
    "name": "ipython",
    "version": 3
   },
   "file_extension": ".py",
   "mimetype": "text/x-python",
   "name": "python",
   "nbconvert_exporter": "python",
   "pygments_lexer": "ipython3",
   "version": "3.10.4"
  },
  "orig_nbformat": 4,
  "vscode": {
   "interpreter": {
    "hash": "c0f6a96af90015732f763b1030c49bf01808e62c53de1f85fab90ecba8f848fd"
   }
  }
 },
 "nbformat": 4,
 "nbformat_minor": 2
}
