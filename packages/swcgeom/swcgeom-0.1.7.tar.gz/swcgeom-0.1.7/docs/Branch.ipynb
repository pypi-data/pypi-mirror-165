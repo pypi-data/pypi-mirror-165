{
 "cells": [
  {
   "cell_type": "code",
   "execution_count": 13,
   "metadata": {},
   "outputs": [
    {
     "name": "stdout",
     "output_type": "stream",
     "text": [
      "The autoreload extension is already loaded. To reload it, use:\n",
      "  %reload_ext autoreload\n"
     ]
    }
   ],
   "source": [
    "%load_ext autoreload\n",
    "%autoreload 2\n",
    "\n",
    "import builtins\n",
    "from IPython.lib import deepreload\n",
    "builtins.reload = deepreload.reload # type: ignore"
   ]
  },
  {
   "cell_type": "code",
   "execution_count": 14,
   "metadata": {},
   "outputs": [],
   "source": [
    "import numpy as np\n",
    "import swcgeom"
   ]
  },
  {
   "cell_type": "code",
   "execution_count": 15,
   "metadata": {},
   "outputs": [],
   "source": [
    "xyzr = np.array([[  0.   ,   0.   ,   0.   ,   5.165],\n",
    "                 [  1.148,  -2.993,  -2.048,   3.473],\n",
    "                 [  2.356,  -6.14 ,  -4.202,   1.695],\n",
    "                 [  3.557,  -9.239,  -6.417,   0.12 ],\n",
    "                 [  4.678, -12.019,  -9.049,   0.12 ],\n",
    "                 [  5.997, -15.253, -10.986,   0.12 ],\n",
    "                 [  7.291, -18.546, -12.837,   0.12 ],\n",
    "                 [  8.912, -21.845, -14.414,   0.12 ],\n",
    "                 [ 10.577, -25.185, -15.85 ,   0.12 ],\n",
    "                 [ 12.307, -28.555, -17.129,   0.12 ],\n",
    "                 [ 14.001, -32.046, -18.09 ,   0.12 ],\n",
    "                 [ 15.568, -35.606, -19.019,   0.12 ],\n",
    "                 [ 17.044, -39.262, -19.684,   0.12 ],\n",
    "                 [ 18.172, -43.074, -20.111,   0.12 ],\n",
    "                 [ 19.171, -46.943, -20.236,   0.12 ],\n",
    "                 [ 19.876, -50.875, -20.294,   0.12 ],\n",
    "                 [ 20.298, -54.851, -20.408,   0.12 ],\n",
    "                 [ 20.523, -58.84 , -20.286,   0.12 ],\n",
    "                 [ 20.679, -62.832, -20.154,   0.12 ],\n",
    "                 [ 20.87 , -66.806, -19.748,   0.12 ],\n",
    "                 [ 20.708, -70.781, -19.364,   0.12 ],\n",
    "                 [ 19.833, -74.675, -19.141,   0.12 ],\n",
    "                 [ 18.784, -78.531, -18.982,   0.12 ],\n",
    "                 [ 17.482, -82.298, -18.723,   0.12 ],\n",
    "                 [ 16.346, -86.087, -18.238,   0.12 ],\n",
    "                 [ 16.305, -90.019, -17.658,   0.12 ],\n",
    "                 [ 16.492, -93.974, -17.094,   0.12 ],\n",
    "                 [ 16.68 , -97.93 , -16.53 ,   0.12 ]])"
   ]
  },
  {
   "cell_type": "code",
   "execution_count": 16,
   "metadata": {},
   "outputs": [
    {
     "name": "stdout",
     "output_type": "stream",
     "text": [
      "length of branch: 107.69804890582735\n",
      "straight line distance: 100.70624707534286\n"
     ]
    },
    {
     "data": {
      "image/png": "[encoded data removed]",
      "text/plain": [
       "<Figure size 432x288 with 1 Axes>"
      ]
     },
     "metadata": {
      "needs_background": "light"
     },
     "output_type": "display_data"
    }
   ],
   "source": [
    "branch = swcgeom.Branch.from_numpy(xyzr)\n",
    "branch.draw(standardize=False)\n",
    "\n",
    "print(f\"length of branch: {branch.length()}\")\n",
    "print(f\"straight line distance: {branch.straight_line_distance()}\")"
   ]
  },
  {
   "cell_type": "code",
   "execution_count": 20,
   "metadata": {},
   "outputs": [
    {
     "name": "stdout",
     "output_type": "stream",
     "text": [
      "length of branch: 107.6781164028372\n",
      "straight line distance: 100.70624707534286\n"
     ]
    },
    {
     "data": {
      "image/png": "[encoded data removed]",
      "text/plain": [
       "<Figure size 432x288 with 1 Axes>"
      ]
     },
     "metadata": {
      "needs_background": "light"
     },
     "output_type": "display_data"
    }
   ],
   "source": [
    "resampled_branch = branch.resample(num=100)\n",
    "resampled_branch.draw(standardize=False)\n",
    "\n",
    "print(f\"length of branch: {resampled_branch.length()}\")\n",
    "print(f\"straight line distance: {resampled_branch.straight_line_distance()}\")"
   ]
  },
  {
   "cell_type": "code",
   "execution_count": 24,
   "metadata": {},
   "outputs": [
    {
     "name": "stdout",
     "output_type": "stream",
     "text": [
      "0.009929870579447322 [ 16.68 -97.93 -16.53]\n",
      "length of branch: 1.069427687293854\n",
      "straight line distance: 1.0\n"
     ]
    },
    {
     "data": {
      "image/png": "[encoded data removed]",
      "text/plain": [
       "<Figure size 432x288 with 1 Axes>"
      ]
     },
     "metadata": {
      "needs_background": "light"
     },
     "output_type": "display_data"
    }
   ],
   "source": [
    "standardize_branch = branch.standardize()\n",
    "standardize_branch.draw(standardize=False)\n",
    "\n",
    "print(f\"length of branch: {standardize_branch.length()}\")\n",
    "print(f\"straight line distance: {standardize_branch.straight_line_distance()}\")"
   ]
  }
 ],
 "metadata": {
  "kernelspec": {
   "display_name": "Python 3.10.4 ('torch')",
   "language": "python",
   "name": "python3"
  },
  "language_info": {
   "codemirror_mode": {
    "name": "ipython",
    "version": 3
   },
   "file_extension": ".py",
   "mimetype": "text/x-python",
   "name": "python",
   "nbconvert_exporter": "python",
   "pygments_lexer": "ipython3",
   "version": "3.10.6"
  },
  "orig_nbformat": 4,
  "vscode": {
   "interpreter": {
    "hash": "c0f6a96af90015732f763b1030c49bf01808e62c53de1f85fab90ecba8f848fd"
   }
  }
 },
 "nbformat": 4,
 "nbformat_minor": 2
}
