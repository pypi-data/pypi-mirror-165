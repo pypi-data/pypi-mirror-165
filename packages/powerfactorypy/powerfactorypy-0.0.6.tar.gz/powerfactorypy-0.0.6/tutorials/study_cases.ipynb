{
 "cells": [
  {
   "cell_type": "code",
   "execution_count": 1,
   "metadata": {},
   "outputs": [
    {
     "ename": "ModuleNotFoundError",
     "evalue": "No module named 'powerfactorypy'",
     "output_type": "error",
     "traceback": [
      "\u001b[1;31m---------------------------------------------------------------------------\u001b[0m",
      "\u001b[1;31mModuleNotFoundError\u001b[0m                       Traceback (most recent call last)",
      "\u001b[1;32m~\\AppData\\Local\\Temp/ipykernel_19268/3911485568.py\u001b[0m in \u001b[0;36m<module>\u001b[1;34m\u001b[0m\n\u001b[0;32m      6\u001b[0m \u001b[0mapp\u001b[0m \u001b[1;33m=\u001b[0m \u001b[0mpowerfactory\u001b[0m\u001b[1;33m.\u001b[0m\u001b[0mGetApplication\u001b[0m\u001b[1;33m(\u001b[0m\u001b[1;33m)\u001b[0m\u001b[1;33m\u001b[0m\u001b[1;33m\u001b[0m\u001b[0m\n\u001b[0;32m      7\u001b[0m \u001b[0msys\u001b[0m\u001b[1;33m.\u001b[0m\u001b[0mpath\u001b[0m\u001b[1;33m.\u001b[0m\u001b[0minsert\u001b[0m\u001b[1;33m(\u001b[0m\u001b[1;36m0\u001b[0m\u001b[1;33m,\u001b[0m\u001b[1;34mr'.\\src'\u001b[0m\u001b[1;33m)\u001b[0m\u001b[1;33m\u001b[0m\u001b[1;33m\u001b[0m\u001b[0m\n\u001b[1;32m----> 8\u001b[1;33m \u001b[1;32mimport\u001b[0m \u001b[0mpowerfactorypy\u001b[0m\u001b[1;33m\u001b[0m\u001b[1;33m\u001b[0m\u001b[0m\n\u001b[0m\u001b[0;32m      9\u001b[0m \u001b[0mpfsc\u001b[0m \u001b[1;33m=\u001b[0m \u001b[0mpowerfactorypy\u001b[0m\u001b[1;33m.\u001b[0m\u001b[0mPFStudyCases\u001b[0m\u001b[1;33m(\u001b[0m\u001b[0mapp\u001b[0m\u001b[1;33m)\u001b[0m\u001b[1;33m\u001b[0m\u001b[1;33m\u001b[0m\u001b[0m\n\u001b[0;32m     10\u001b[0m \u001b[0mpfsc\u001b[0m\u001b[1;33m.\u001b[0m\u001b[0mapp\u001b[0m\u001b[1;33m.\u001b[0m\u001b[0mShow\u001b[0m\u001b[1;33m(\u001b[0m\u001b[1;33m)\u001b[0m\u001b[1;33m\u001b[0m\u001b[1;33m\u001b[0m\u001b[0m\n",
      "\u001b[1;31mModuleNotFoundError\u001b[0m: No module named 'powerfactorypy'"
     ]
    }
   ],
   "source": [
    "# If you use IPython/Jupyter:\n",
    "import sys\n",
    "sys.path.append(r'C:\\Program Files\\DIgSILENT\\PowerFactory 2022 SP1\\Python\\3.10') # you may use a different directory\n",
    "# Get the PF app\n",
    "import powerfactory as powerfactory\n",
    "app = powerfactory.GetApplication()\n",
    "sys.path.insert(0,r'.\\src')\n",
    "import powerfactorypy\n",
    "pfsc = powerfactorypy.PFStudyCases(app)\n",
    "pfsc.app.Show()\n",
    "pfsc.app.ActivateProject(r\"\\seberlein\\powfacpy\\powfacpy_tests\") # You may change the project path.\n",
    "# Make sure the part starts with \"\\\""
   ]
  },
  {
   "cell_type": "code",
   "execution_count": null,
   "metadata": {},
   "outputs": [],
   "source": [
    "pf_cases = powerfactorypy.PFStudyCases(app)\n",
    "pf_cases.parameter_values = {\n",
    "    \"p HV load\":[1, 2, 1, 2],\n",
    "    \"q HV load\":[-1, -1, 1, 1],\n",
    "}\n",
    "pf_cases.parameter_paths = {\n",
    "    \"p HV load\":r\"Network Model\\Network Data\\Grid\\General Load HV\\plini\",\n",
    "    \"q HV load\":r\"Network Model\\Network Data\\Grid\\General Load HV\\qlini\",\n",
    "}\n",
    "pf_cases.active_grids = r\"Network Model\\Network Data\\test_case_studies\\Grid 1\""
   ]
  }
 ],
 "metadata": {
  "kernelspec": {
   "display_name": "Python 3.10.4 64-bit",
   "language": "python",
   "name": "python3"
  },
  "language_info": {
   "codemirror_mode": {
    "name": "ipython",
    "version": 3
   },
   "file_extension": ".py",
   "mimetype": "text/x-python",
   "name": "python",
   "nbconvert_exporter": "python",
   "pygments_lexer": "ipython3",
   "version": "3.10.6"
  },
  "orig_nbformat": 4,
  "vscode": {
   "interpreter": {
    "hash": "20b4f2ae9a71ebfc0af8cf0167d05f9c8f5c94fe23811db744e66ae1fdb328c7"
   }
  }
 },
 "nbformat": 4,
 "nbformat_minor": 2
}
