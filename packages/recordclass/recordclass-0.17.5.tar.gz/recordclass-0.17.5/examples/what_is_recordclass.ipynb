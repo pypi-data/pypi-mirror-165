{
 "cells": [
  {
   "cell_type": "markdown",
   "metadata": {},
   "source": [
    "# What is recordclass library"
   ]
  },
  {
   "cell_type": "markdown",
   "metadata": {},
   "source": [
    "[Recordclass](https://pypi.python.org/pypi/recordclass) is a library for creation of `record`-like classes.\n",
    "It can be installed via `pip` command:\n",
    "```\n",
    "pip3 install recordclass\n",
    "```"
   ]
  },
  {
   "cell_type": "code",
   "execution_count": 1,
   "metadata": {},
   "outputs": [
    {
     "name": "stdout",
     "output_type": "stream",
     "text": [
      "3.9.9 (main, Dec 16 2021, 23:13:29) \n",
      "[GCC 11.2.0]\n",
      "linux\n"
     ]
    }
   ],
   "source": [
    "from recordclass import recordclass, dataobject, make_dataclass\n",
    "\n",
    "from sys import getsizeof as sizeof\n",
    "from collections import namedtuple\n",
    "\n",
    "import sys\n",
    "print(sys.version)\n",
    "print(sys.platform)"
   ]
  },
  {
   "cell_type": "markdown",
   "metadata": {},
   "source": [
    "## Recordclass-based classes"
   ]
  },
  {
   "cell_type": "markdown",
   "metadata": {},
   "source": [
    "The factory function `recordclass` is almost analog of `collection.namedtuple`, but can be mutable or immutable."
   ]
  },
  {
   "cell_type": "markdown",
   "metadata": {},
   "source": [
    "They are created by the same way as namedtuples:"
   ]
  },
  {
   "cell_type": "code",
   "execution_count": 2,
   "metadata": {},
   "outputs": [],
   "source": [
    "R = recordclass(\"R\", \"a b c d e f g h\")\n",
    "r = R(*range(8))"
   ]
  },
  {
   "cell_type": "markdown",
   "metadata": {},
   "source": [
    "Record has the same size as the equivalent namedtuple:"
   ]
  },
  {
   "cell_type": "code",
   "execution_count": 3,
   "metadata": {
    "scrolled": true,
    "tags": []
   },
   "outputs": [
    {
     "name": "stdout",
     "output_type": "stream",
     "text": [
      "recordclass: sizeof: 80\n",
      "namedtuple:  sizeof: 104\n"
     ]
    }
   ],
   "source": [
    "R2 = namedtuple(\"R\", \"a b c d e f g h\")\n",
    "r2 = R2(*range(1,9))\n",
    "print(\"recordclass: sizeof:\", sizeof(r))\n",
    "print(\"namedtuple:  sizeof:\", sizeof(r2))"
   ]
  },
  {
   "cell_type": "markdown",
   "metadata": {},
   "source": [
    "By default recordclasses are mutable. There is an option `readonly=True` to make fields immutable:\n",
    "\n",
    "`recordclass(typename, fields, readonly=True)`"
   ]
  },
  {
   "cell_type": "markdown",
   "metadata": {},
   "source": [
    "The size of recordclass-based instance is less because it not participate in cyclic garbage collection by default.\n",
    "Tuples have a field for the the number of items, recordclass-based instances havn't it. That is why it's memory footprint is less than memory footprint of tuple."
   ]
  },
  {
   "cell_type": "markdown",
   "metadata": {},
   "source": [
    "Recordclass has the same text representation as namedtuple:"
   ]
  },
  {
   "cell_type": "code",
   "execution_count": 4,
   "metadata": {},
   "outputs": [
    {
     "name": "stdout",
     "output_type": "stream",
     "text": [
      "R(a=0, b=1, c=2, d=3, e=4, f=5, g=6, h=7)\n",
      "R(a=0, b=1, c=2, d=3, e=4, f=5, g=6, h=7)\n"
     ]
    }
   ],
   "source": [
    "print(repr(r))\n",
    "print(str(r))"
   ]
  },
  {
   "cell_type": "markdown",
   "metadata": {},
   "source": [
    "It support access to field both by attribute and by index:"
   ]
  },
  {
   "cell_type": "code",
   "execution_count": 5,
   "metadata": {},
   "outputs": [
    {
     "name": "stdout",
     "output_type": "stream",
     "text": [
      "By index: 0 1 2 3 4 5 6 7\n",
      "By name:  0 1 2 3 4 5 6 7\n"
     ]
    }
   ],
   "source": [
    "print('By index:', r.a, r.b, r.c, r.d, r.e, r.f, r.g, r.h)\n",
    "print('By name: ', r[0], r[1], r[2], r[3], r[4], r[5], r[6], r[7])"
   ]
  },
  {
   "cell_type": "markdown",
   "metadata": {},
   "source": [
    "Recordclass can change value of any it's field inplace:"
   ]
  },
  {
   "cell_type": "code",
   "execution_count": 6,
   "metadata": {},
   "outputs": [
    {
     "name": "stdout",
     "output_type": "stream",
     "text": [
      "R(a=0, b=2, c=6, d=12, e=20, f=30, g=42, h=56)\n",
      "R(a=100, b=2, c=6, d=12, e=20, f=30, g=42, h=1000)\n",
      "Are they same? True\n"
     ]
    }
   ],
   "source": [
    "r.a, r.b, r.c, r.d, r.e, r.f, r.g, r.h = r.a, 2*r.b, 3*r.c, 4*r.d, 5*r.e, 6*r.f, 7*r.g, 8*r.h\n",
    "print(r)\n",
    "\n",
    "r1 = r._replace(a=100, h=1000) # same as r.a=100; r.h=1000\n",
    "print(r1)\n",
    "print('Are they same?', r1 is r)"
   ]
  },
  {
   "cell_type": "markdown",
   "metadata": {},
   "source": [
    "Recordclass supports iterative unpacking and iteration over values in fields:"
   ]
  },
  {
   "cell_type": "code",
   "execution_count": 7,
   "metadata": {},
   "outputs": [
    {
     "name": "stdout",
     "output_type": "stream",
     "text": [
      "100 2 6 12 20 30 42 1000\n",
      "100 2 6 12 20 30 42 1000 "
     ]
    }
   ],
   "source": [
    "a, b, c, d, e, f, g, h = r\n",
    "print(a, b, c, d, e, f, g, h)\n",
    "\n",
    "for v in r:\n",
    "    print(v, end=\" \")"
   ]
  },
  {
   "cell_type": "markdown",
   "metadata": {},
   "source": [
    "As namedtuple it can be converted to a dict:"
   ]
  },
  {
   "cell_type": "code",
   "execution_count": 8,
   "metadata": {},
   "outputs": [
    {
     "data": {
      "text/plain": [
       "{'a': 100, 'b': 2, 'c': 6, 'd': 12, 'e': 20, 'f': 30, 'g': 42, 'h': 1000}"
      ]
     },
     "execution_count": 8,
     "metadata": {},
     "output_type": "execute_result"
    }
   ],
   "source": [
    "r._asdict()"
   ]
  },
  {
   "cell_type": "markdown",
   "metadata": {},
   "source": [
    "Recordclasses are pickable and unpickable\""
   ]
  },
  {
   "cell_type": "code",
   "execution_count": 9,
   "metadata": {},
   "outputs": [
    {
     "data": {
      "text/plain": [
       "True"
      ]
     },
     "execution_count": 9,
     "metadata": {},
     "output_type": "execute_result"
    }
   ],
   "source": [
    "import pickle\n",
    "r_pickled = pickle.dumps(r)\n",
    "r_unpickled = pickle.loads(r_pickled)\n",
    "r == r_unpickled"
   ]
  },
  {
   "cell_type": "markdown",
   "metadata": {},
   "source": [
    "Recordclasses has `__fields__` attribute instead of `__slots__`:"
   ]
  },
  {
   "cell_type": "code",
   "execution_count": 10,
   "metadata": {},
   "outputs": [
    {
     "name": "stdout",
     "output_type": "stream",
     "text": [
      "('a', 'b', 'c', 'd', 'e', 'f', 'g', 'h')\n"
     ]
    }
   ],
   "source": [
    "print(R.__fields__)"
   ]
  },
  {
   "cell_type": "markdown",
   "metadata": {},
   "source": [
    "## Dataobject-based subclasses"
   ]
  },
  {
   "cell_type": "markdown",
   "metadata": {},
   "source": [
    "Recordclass library provide general approach for contsruction of memory efficient configurable classes."
   ]
  },
  {
   "cell_type": "markdown",
   "metadata": {},
   "source": [
    "There is simple example:"
   ]
  },
  {
   "cell_type": "code",
   "execution_count": 11,
   "metadata": {},
   "outputs": [],
   "source": [
    "from recordclass import dataobject\n",
    "\n",
    "class Point(dataobject):\n",
    "    x:int\n",
    "    y:int"
   ]
  },
  {
   "cell_type": "markdown",
   "metadata": {},
   "source": [
    "It support only read/write access to the fields via `__getattr__/__setattr__` protocol. It doesn't support access to the fields by index:"
   ]
  },
  {
   "cell_type": "code",
   "execution_count": 12,
   "metadata": {},
   "outputs": [
    {
     "name": "stdout",
     "output_type": "stream",
     "text": [
      "Point(x=100, y=200)\n",
      "object Point does not support assignment\n"
     ]
    }
   ],
   "source": [
    "p = Point(1, 2)\n",
    "p.x = 100\n",
    "p.y = 200\n",
    "print(p)\n",
    "try:\n",
    "    p[0]\n",
    "except TypeError as ex:\n",
    "    print(ex)"
   ]
  },
  {
   "cell_type": "markdown",
   "metadata": {},
   "source": [
    "It isn't iterable by default:"
   ]
  },
  {
   "cell_type": "code",
   "execution_count": 13,
   "metadata": {},
   "outputs": [
    {
     "name": "stdout",
     "output_type": "stream",
     "text": [
      "'Point' object is not iterable\n"
     ]
    }
   ],
   "source": [
    "try:\n",
    "    iter(p)\n",
    "except TypeError as ex:\n",
    "    print(ex)"
   ]
  },
  {
   "cell_type": "markdown",
   "metadata": {},
   "source": [
    "`Point` have minimal memory footprint: `sizeof(PyObject_HEAD) + 2*sizeof(*PyObject)`."
   ]
  },
  {
   "cell_type": "code",
   "execution_count": 14,
   "metadata": {},
   "outputs": [],
   "source": [
    "class PointSlots:\n",
    "    __slots__ = 'x', 'y'\n",
    "    x:int\n",
    "    y:int\n",
    "    \n",
    "    def __init__(self, x, y):\n",
    "        self.x = x\n",
    "        self.y = y\n",
    "\n",
    "from typing import NamedTuple\n",
    "class PointNT(NamedTuple):\n",
    "    x:int\n",
    "    y:int"
   ]
  },
  {
   "cell_type": "code",
   "execution_count": 15,
   "metadata": {},
   "outputs": [
    {
     "name": "stdout",
     "output_type": "stream",
     "text": [
      "dataobject: 32\n",
      "class with __slots__: 48\n",
      "NamedTuple: 56\n"
     ]
    }
   ],
   "source": [
    "p = Point(1,2)\n",
    "p_s = PointSlots(1,2)\n",
    "p_nt = PointNT(1,2)\n",
    "\n",
    "from sys import getsizeof as sizeof\n",
    "print('dataobject:', sizeof(p))\n",
    "print('class with __slots__:', sizeof(p_s))\n",
    "print('NamedTuple:', sizeof(p_nt))"
   ]
  },
  {
   "cell_type": "markdown",
   "metadata": {},
   "source": [
    "One can add iterable, sequence and mapping protocols to the class:"
   ]
  },
  {
   "cell_type": "code",
   "execution_count": 16,
   "metadata": {},
   "outputs": [
    {
     "name": "stdout",
     "output_type": "stream",
     "text": [
      "1 2\n",
      "object PointIterable does not support assignment\n",
      "1\n",
      "2\n"
     ]
    }
   ],
   "source": [
    "# add support for iter without support for sequence protocol\n",
    "class PointIterable(dataobject, iterable=True):\n",
    "    x:int\n",
    "    y:int\n",
    "   \n",
    "p = PointIterable(1, 2)\n",
    "print(p.x, p.y)\n",
    "\n",
    "try:\n",
    "    p[0]\n",
    "except TypeError as ex:\n",
    "    print(ex)\n",
    "\n",
    "for v in p:\n",
    "    print(v)"
   ]
  },
  {
   "cell_type": "code",
   "execution_count": 17,
   "metadata": {},
   "outputs": [
    {
     "name": "stdout",
     "output_type": "stream",
     "text": [
      "1 2\n",
      "1 2\n",
      "2 1\n"
     ]
    }
   ],
   "source": [
    "# add support for sequence protocol\n",
    "class PointIterable(dataobject, sequence=True):\n",
    "    x:int\n",
    "    y:int\n",
    "   \n",
    "p = PointIterable(1, 2)\n",
    "print(p.x, p.y)\n",
    "print(p[0], p[1])\n",
    "print(p[-1], p[-2])"
   ]
  },
  {
   "cell_type": "code",
   "execution_count": 18,
   "metadata": {},
   "outputs": [
    {
     "name": "stdout",
     "output_type": "stream",
     "text": [
      "1 2\n",
      "1 2\n",
      "object PointMapping do not support access by index\n"
     ]
    }
   ],
   "source": [
    "# add support for mapping protocol only\n",
    "class PointMapping(dataobject, mapping=True):\n",
    "    x:int\n",
    "    y:int\n",
    "   \n",
    "p = PointMapping(1, 2)\n",
    "print(p.x, p.y)\n",
    "print(p['x'], p['y'])\n",
    "\n",
    "try:\n",
    "    p[0]\n",
    "except TypeError as ex:\n",
    "    print(ex)\n"
   ]
  },
  {
   "cell_type": "code",
   "execution_count": 19,
   "metadata": {},
   "outputs": [
    {
     "name": "stdout",
     "output_type": "stream",
     "text": [
      "1 2\n",
      "1 2\n",
      "1 2\n"
     ]
    }
   ],
   "source": [
    "# add support for sequence and mapping protocols\n",
    "class PointMixed(dataobject, sequence=True, mapping=True):\n",
    "    x:int\n",
    "    y:int\n",
    "   \n",
    "p = PointMixed(1, 2)\n",
    "print(p.x, p.y)\n",
    "print(p['x'], p['y'])\n",
    "print(p[0], p[1])"
   ]
  },
  {
   "cell_type": "markdown",
   "metadata": {},
   "source": [
    "There is an option `readonly=True` if someone want to create a dataobject-based subclass with immutable fields:"
   ]
  },
  {
   "cell_type": "code",
   "execution_count": 20,
   "metadata": {},
   "outputs": [],
   "source": [
    "class PointReadonly(dataobject, readonly=True):\n",
    "    x:int\n",
    "    y:int"
   ]
  },
  {
   "cell_type": "markdown",
   "metadata": {},
   "source": [
    "There is also factory function `make_dataclass` to create dataobject-based subclasses:"
   ]
  },
  {
   "cell_type": "code",
   "execution_count": 21,
   "metadata": {},
   "outputs": [],
   "source": [
    "Point = make_dataclass('Point', 'x y')\n",
    "PointIterable = make_dataclass('PointIterable', 'x y', iterable=True)\n",
    "PointSequence = make_dataclass('PointSequence', 'x y', sequence=True)\n",
    "PointMapping = make_dataclass('PointMapping', 'x y', mapping=True)\n",
    "PointMixed = make_dataclass('PointMixed', 'x y', sequence=True, mapping=True)"
   ]
  },
  {
   "cell_type": "markdown",
   "metadata": {},
   "source": [
    "Implementation of the dataobject-based subclasses are fast enough:"
   ]
  },
  {
   "cell_type": "code",
   "execution_count": 22,
   "metadata": {},
   "outputs": [],
   "source": [
    "STest = namedtuple(\"TEST\", \"a b c d e f g h i j k\")\n",
    "nt = STest(a=1,b=2,c=3,d=4,e=5,f=6,g=7,h=8,i=9,j=10,k=11)\n",
    "\n",
    "RTest = recordclass(\"RTEST\", \"a b c d e f g h i j k\")\n",
    "rc = RTest(a=1,b=2,c=3,d=4,e=5,f=6,g=7,h=8,i=9,j=10,k=11)\n",
    "\n",
    "class Test:\n",
    "    __slots__ = [\"a\",\"b\",\"c\",\"d\",\"e\",\"f\",\"g\",\"h\",\"i\",\"j\",\"k\"]\n",
    "\n",
    "    def __init__(self, a, b, c, d, e, f, g, h, i, j, k):\n",
    "        self.a = a; self.b = b; self.c = c\n",
    "        self.d = d; self.e = e; self.f = f\n",
    "        self.g = g; self.h = h; self.i = i\n",
    "        self.j = j; self.k = k\n",
    "\n",
    "b = Test(1,2,3,4,5,6,7,8,9,10,11)\n",
    "\n",
    "c = {'a':1, 'b':2, 'c':3, 'd':4, 'e':5, 'f':6, 'g':7, 'h':8, 'i':9, 'j':10, 'k':11}\n",
    "\n",
    "d = (1,2,3,4,5,6,7,8,9,10,11)\n",
    "e = [1,2,3,4,5,6,7,8,9,10,11]\n",
    "f = (1,2,3,4,5,6,7,8,9,10,11)\n",
    "key = 10\n",
    "\n",
    "DO = make_dataclass(\"DO\", fields=(\"a\",\"b\",\"c\",\"d\",\"e\",\"f\",\"g\",\"h\",\"i\",\"j\",\"k\"), sequence=True, fast_new=True)\n",
    "do = DO(1,2,3,4,5,6,7,8,9,10,11)"
   ]
  },
  {
   "cell_type": "code",
   "execution_count": 23,
   "metadata": {},
   "outputs": [],
   "source": [
    "from timeit import timeit\n",
    "import matplotlib.pyplot as plt\n",
    "import matplotlib as mpl\n",
    "mpl.style.use(['seaborn-notebook', 'seaborn-ticks', 'seaborn-white'])\n",
    "\n",
    "labels1 = {\n",
    "    'nt_a' : 'namedtuple/attribute',\n",
    "    'nt_i' : 'namedtuple/index',\n",
    "    'rc_a' : 'recordclass/attribute',\n",
    "    'rc_i' : 'recordclass/index',\n",
    "    'nds_i' : 'dataobject/index',\n",
    "    'nds_a' : 'dataobject/attribute',\n",
    "    'cs' : 'class/slots',\n",
    "    'dt' : 'dict/key',\n",
    "    'tp' : 'tuple/index',\n",
    "    'mt' : 'mutabletuple/index',\n",
    "    'lt' : 'list/index',\n",
    "    'for' : 'for overhead',\n",
    "}\n",
    "\n",
    "d1 = {}\n",
    "d1['nt_a'] = timeit(\"z = nt.a; z = nt.f; z = nt.k\", \"from __main__ import nt\")\n",
    "d1['nt_i'] = timeit(\"z = nt[0]; z = nt[5]; z = nt[10]\", \"from __main__ import nt\")\n",
    "d1['rc_a'] = timeit(\"z = rc.a; z = rc.f; z = rc.k\", \"from __main__ import rc\")\n",
    "d1['rc_i'] = timeit(\"z = rc[0]; z = rc[5]; z = rc[10]\", \"from __main__ import rc\")\n",
    "d1['nds_a'] = timeit(\"z = do.a; z = do.f; z = do.k\", \"from __main__ import do\")\n",
    "d1['nds_i'] = timeit(\"z = do.a; z = do.f; z = do[10]\", \"from __main__ import do\")\n",
    "d1['cs'] = timeit(\"z = b.a; z = b.f; z = b.k\", \"from __main__ import b\")\n",
    "d1['dt'] = timeit(\"z = c['a']; z = c['f']; z = c['k']\", \"from __main__ import c\")\n",
    "d1['tp'] = timeit(\"z = d[0]; z = d[5]; z = d[10]\", \"from __main__ import d\")\n",
    "d1['lt'] = timeit(\"z = e[0]; z = e[5]; z = e[10]\", \"from __main__ import e\")"
   ]
  },
  {
   "cell_type": "code",
   "execution_count": 24,
   "metadata": {},
   "outputs": [
    {
     "data": {
      "image/png": "[encoded data removed]",
      "text/plain": [
       "<Figure size 1008x576 with 1 Axes>"
      ]
     },
     "metadata": {},
     "output_type": "display_data"
    }
   ],
   "source": [
    "keys1 = list(sorted(d1.keys()))\n",
    "n1 = len(d1)\n",
    "\n",
    "plt.figure(figsize=(14,8))\n",
    "plt.barh(range(n1), [d1[key] for key in keys1], color='LightBlue', edgecolor='DarkBlue')\n",
    "for i,key in enumerate(keys1):\n",
    "    plt.text(d1[key], i+0.15, '%.3f'%d1[key], fontdict={'size':13})\n",
    "    plt.text(d1[key], i-0.33, labels1[key], fontdict={'size':13})\n",
    "plt.yticks([],[])\n",
    "plt.xlim(0,0.12)\n",
    "plt.title('Timings (ns)')\n",
    "plt.minorticks_on()\n",
    "plt.savefig('recordclass_timings.png')\n",
    "plt.show()"
   ]
  },
  {
   "cell_type": "code",
   "execution_count": 25,
   "metadata": {},
   "outputs": [],
   "source": [
    "d2 = dict(\n",
    " nt = sizeof(nt),  \n",
    " rc = sizeof(rc),  \n",
    " do = sizeof(do),\n",
    " cs = sizeof(b),\n",
    " tp = sizeof(d),\n",
    ")\n",
    "\n",
    "labels2 = dict(\n",
    "    nt = 'namedtuple',\n",
    "    rc = 'recordclass',\n",
    "    do = 'dataobject',\n",
    "    cs = 'class/slots',\n",
    "    tp = 'tuple',\n",
    ")"
   ]
  },
  {
   "cell_type": "code",
   "execution_count": 26,
   "metadata": {},
   "outputs": [
    {
     "data": {
      "image/png": "[encoded data removed]",
      "text/plain": [
       "<Figure size 576x288 with 1 Axes>"
      ]
     },
     "metadata": {},
     "output_type": "display_data"
    }
   ],
   "source": [
    "keys2 = list(sorted(d2.keys()))\n",
    "n2 = len(d2)\n",
    "\n",
    "plt.figure(figsize=(8,4))\n",
    "plt.barh(range(n2), [d2[key] for key in keys2], color='LightBlue', edgecolor='DarkBlue')\n",
    "for i,key in enumerate(keys2):\n",
    "    plt.text(d2[key], i+0.15, '%d'%d2[key])\n",
    "    plt.text(d2[key], i-0.33, labels2[key])\n",
    "plt.yticks([],[])\n",
    "plt.title('Size (bytes)')\n",
    "plt.xlim(96,144)\n",
    "plt.xticks([96,104,112,120,128,136,144])\n",
    "plt.savefig('recordclass_memory.png')\n",
    "plt.show()"
   ]
  },
  {
   "cell_type": "code",
   "execution_count": 27,
   "metadata": {},
   "outputs": [
    {
     "data": {
      "image/png": "[encoded data removed]",
      "text/plain": [
       "<Figure size 576x360 with 1 Axes>"
      ]
     },
     "metadata": {},
     "output_type": "display_data"
    }
   ],
   "source": [
    "B = 120\n",
    "\n",
    "plt.figure(figsize=(8,5))\n",
    "plt.barh(range(n2), [d2[key] for key in keys2], color='LightBlue', edgecolor='DarkBlue')\n",
    "for i,key in enumerate(keys2):\n",
    "    v = (d2[key] / B) * 100\n",
    "    plt.text(d2[key], i+0.15, '%d%%'% v)\n",
    "    plt.text(d2[key], i-0.33, labels2[key])\n",
    "plt.yticks([],[])\n",
    "plt.title('Size (bytes)')\n",
    "plt.xlim(96,144)\n",
    "plt.xticks([96,104,112,120,128,136,144])\n",
    "plt.show()"
   ]
  },
  {
   "cell_type": "markdown",
   "metadata": {},
   "source": [
    "Here is the table for sizes comparisons:"
   ]
  },
  {
   "cell_type": "code",
   "execution_count": 28,
   "metadata": {},
   "outputs": [
    {
     "data": {
      "text/html": [
       "<div>\n",
       "<style scoped>\n",
       "    .dataframe tbody tr th:only-of-type {\n",
       "        vertical-align: middle;\n",
       "    }\n",
       "\n",
       "    .dataframe tbody tr th {\n",
       "        vertical-align: top;\n",
       "    }\n",
       "\n",
       "    .dataframe thead th {\n",
       "        text-align: right;\n",
       "    }\n",
       "</style>\n",
       "<table border=\"1\" class=\"dataframe\">\n",
       "  <thead>\n",
       "    <tr style=\"text-align: right;\">\n",
       "      <th></th>\n",
       "      <th>recordclass</th>\n",
       "      <th>namedtuple</th>\n",
       "      <th>class + __slots__</th>\n",
       "      <th>dataobject</th>\n",
       "    </tr>\n",
       "  </thead>\n",
       "  <tbody>\n",
       "    <tr>\n",
       "      <th>size</th>\n",
       "      <td>104</td>\n",
       "      <td>128</td>\n",
       "      <td>120</td>\n",
       "      <td>104</td>\n",
       "    </tr>\n",
       "  </tbody>\n",
       "</table>\n",
       "</div>"
      ],
      "text/plain": [
       "      recordclass  namedtuple  class + __slots__  dataobject\n",
       "size          104         128                120         104"
      ]
     },
     "execution_count": 28,
     "metadata": {},
     "output_type": "execute_result"
    }
   ],
   "source": [
    "import pandas as pd\n",
    "\n",
    "df = pd.DataFrame(\n",
    "    [(sizeof(rc), \n",
    "      sizeof(nt),\n",
    "      sizeof(b),\n",
    "      sizeof(do),\n",
    "     )\n",
    "    ], columns=[\n",
    "        'recordclass', 'namedtuple', 'class + __slots__', \n",
    "        'dataobject'], index=['size'])\n",
    "df"
   ]
  },
  {
   "cell_type": "code",
   "execution_count": null,
   "metadata": {},
   "outputs": [],
   "source": []
  },
  {
   "cell_type": "code",
   "execution_count": null,
   "metadata": {},
   "outputs": [],
   "source": []
  }
 ],
 "metadata": {
  "kernelspec": {
   "display_name": "Python 3 (ipykernel)",
   "language": "python",
   "name": "python3"
  },
  "language_info": {
   "codemirror_mode": {
    "name": "ipython",
    "version": 3
   },
   "file_extension": ".py",
   "mimetype": "text/x-python",
   "name": "python",
   "nbconvert_exporter": "python",
   "pygments_lexer": "ipython3",
   "version": "3.9.9"
  }
 },
 "nbformat": 4,
 "nbformat_minor": 4
}
